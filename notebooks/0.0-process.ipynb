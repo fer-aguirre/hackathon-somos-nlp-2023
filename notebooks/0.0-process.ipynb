{
 "cells": [
  {
   "attachments": {},
   "cell_type": "markdown",
   "metadata": {},
   "source": [
    "### Imports "
   ]
  },
  {
   "cell_type": "code",
   "execution_count": 24,
   "metadata": {},
   "outputs": [],
   "source": [
    "import pandas as pd\n",
    "import numpy as np\n",
    "import hackathon_somos_nlp_2023.data.load as load"
   ]
  },
  {
   "attachments": {},
   "cell_type": "markdown",
   "metadata": {},
   "source": [
    "### Load data"
   ]
  },
  {
   "cell_type": "code",
   "execution_count": 17,
   "metadata": {},
   "outputs": [],
   "source": [
    "data_raw = load.data_raw\n",
    "data_processed = load.data_processed"
   ]
  },
  {
   "attachments": {},
   "cell_type": "markdown",
   "metadata": {},
   "source": [
    "### Read data"
   ]
  },
  {
   "cell_type": "code",
   "execution_count": 20,
   "metadata": {},
   "outputs": [
    {
     "name": "stdout",
     "output_type": "stream",
     "text": [
      "(1705, 3) (2474, 3)\n"
     ]
    }
   ],
   "source": [
    "# Read 'xlsx' files as dataframes and create a copy\n",
    "df1 = pd.read_excel(f'{data_raw}/base1.xlsx').copy()\n",
    "df2 = pd.read_excel(f'{data_raw}/base2.xlsx').copy()\n",
    "\n",
    "# Print dataframes shapes\n",
    "print(df1.shape, df2.shape)"
   ]
  },
  {
   "attachments": {},
   "cell_type": "markdown",
   "metadata": {},
   "source": [
    "### Process data"
   ]
  },
  {
   "cell_type": "code",
   "execution_count": 21,
   "metadata": {},
   "outputs": [
    {
     "name": "stdout",
     "output_type": "stream",
     "text": [
      "(4179, 3)\n"
     ]
    }
   ],
   "source": [
    "# Join two dataframes\n",
    "df_join = pd.concat([df1, df2])\n",
    "\n",
    "# Print dataframe shape\n",
    "print(df_join.shape)"
   ]
  },
  {
   "cell_type": "code",
   "execution_count": 22,
   "metadata": {},
   "outputs": [
    {
     "name": "stdout",
     "output_type": "stream",
     "text": [
      "(2087, 3)\n"
     ]
    }
   ],
   "source": [
    "# Filter dataframe by column value\n",
    "df_es = df_join.loc[df_join['Language'] == 'es']\n",
    "\n",
    "# Print dataframe shape\n",
    "print(df_es.shape)"
   ]
  },
  {
   "cell_type": "code",
   "execution_count": 26,
   "metadata": {},
   "outputs": [
    {
     "name": "stderr",
     "output_type": "stream",
     "text": [
      "/tmp/ipykernel_45141/2640171480.py:9: SettingWithCopyWarning: \n",
      "A value is trying to be set on a copy of a slice from a DataFrame.\n",
      "Try using .loc[row_indexer,col_indexer] = value instead\n",
      "\n",
      "See the caveats in the documentation: https://pandas.pydata.org/pandas-docs/stable/user_guide/indexing.html#returning-a-view-versus-a-copy\n",
      "  df_es['Label']=np.select(conditions,values)\n"
     ]
    }
   ],
   "source": [
    "# Add column for label\n",
    "conditions = [\n",
    "    (df_es['Classification'] == \"si\"),\n",
    "    (df_es['Classification'] == \"no\"),\n",
    "    ]\n",
    "\n",
    "values=[1,0]\n",
    "\n",
    "df_es['Label']=np.select(conditions,values)"
   ]
  },
  {
   "attachments": {},
   "cell_type": "markdown",
   "metadata": {},
   "source": [
    "### Export data"
   ]
  },
  {
   "cell_type": "code",
   "execution_count": 27,
   "metadata": {},
   "outputs": [
    {
     "data": {
      "text/html": [
       "<div>\n",
       "<style scoped>\n",
       "    .dataframe tbody tr th:only-of-type {\n",
       "        vertical-align: middle;\n",
       "    }\n",
       "\n",
       "    .dataframe tbody tr th {\n",
       "        vertical-align: top;\n",
       "    }\n",
       "\n",
       "    .dataframe thead th {\n",
       "        text-align: right;\n",
       "    }\n",
       "</style>\n",
       "<table border=\"1\" class=\"dataframe\">\n",
       "  <thead>\n",
       "    <tr style=\"text-align: right;\">\n",
       "      <th></th>\n",
       "      <th>Text</th>\n",
       "      <th>Classification</th>\n",
       "      <th>Language</th>\n",
       "      <th>Label</th>\n",
       "    </tr>\n",
       "  </thead>\n",
       "  <tbody>\n",
       "    <tr>\n",
       "      <th>0</th>\n",
       "      <td>@alferdez se ve que tanta torta le cayo mal......</td>\n",
       "      <td>no</td>\n",
       "      <td>es</td>\n",
       "      <td>0</td>\n",
       "    </tr>\n",
       "    <tr>\n",
       "      <th>1</th>\n",
       "      <td>@alferdez @cfkargentina @sergiomassa @kicillof...</td>\n",
       "      <td>si</td>\n",
       "      <td>es</td>\n",
       "      <td>1</td>\n",
       "    </tr>\n",
       "    <tr>\n",
       "      <th>2</th>\n",
       "      <td>@alferdez @vivicanosaok vieron que es asi! est...</td>\n",
       "      <td>no</td>\n",
       "      <td>es</td>\n",
       "      <td>0</td>\n",
       "    </tr>\n",
       "    <tr>\n",
       "      <th>3</th>\n",
       "      <td>@alferdez @alferdezprensa \\npodes tener un poq...</td>\n",
       "      <td>si</td>\n",
       "      <td>es</td>\n",
       "      <td>1</td>\n",
       "    </tr>\n",
       "    <tr>\n",
       "      <th>4</th>\n",
       "      <td>@alferdez @cfkargentina @sergiomassa @kicillof...</td>\n",
       "      <td>si</td>\n",
       "      <td>es</td>\n",
       "      <td>1</td>\n",
       "    </tr>\n",
       "  </tbody>\n",
       "</table>\n",
       "</div>"
      ],
      "text/plain": [
       "                                                Text Classification Language  \\\n",
       "0  @alferdez se ve que tanta torta le cayo mal......             no       es   \n",
       "1  @alferdez @cfkargentina @sergiomassa @kicillof...             si       es   \n",
       "2  @alferdez @vivicanosaok vieron que es asi! est...             no       es   \n",
       "3  @alferdez @alferdezprensa \\npodes tener un poq...             si       es   \n",
       "4  @alferdez @cfkargentina @sergiomassa @kicillof...             si       es   \n",
       "\n",
       "   Label  \n",
       "0      0  \n",
       "1      1  \n",
       "2      0  \n",
       "3      1  \n",
       "4      1  "
      ]
     },
     "execution_count": 27,
     "metadata": {},
     "output_type": "execute_result"
    }
   ],
   "source": [
    "# Save dataframe as 'csv' file\n",
    "df_es.to_csv(f'{data_processed}/pmdm_es.csv', index=False)\n",
    "\n",
    "# Show dataframe\n",
    "df_es.head(5)"
   ]
  }
 ],
 "metadata": {
  "kernelspec": {
   "display_name": "hackathon_somos_nlp_2023-2bjqRW9Y",
   "language": "python",
   "name": "python3"
  },
  "language_info": {
   "codemirror_mode": {
    "name": "ipython",
    "version": 3
   },
   "file_extension": ".py",
   "mimetype": "text/x-python",
   "name": "python",
   "nbconvert_exporter": "python",
   "pygments_lexer": "ipython3",
   "version": "3.8.10"
  },
  "orig_nbformat": 4
 },
 "nbformat": 4,
 "nbformat_minor": 2
}
